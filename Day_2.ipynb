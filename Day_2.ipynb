{
 "cells": [
  {
   "cell_type": "markdown",
   "id": "cc4a748e",
   "metadata": {},
   "source": [
    "# 1. Remove all occurrences of a specific value from a list"
   ]
  },
  {
   "cell_type": "code",
   "execution_count": 1,
   "id": "bd03d473",
   "metadata": {},
   "outputs": [
    {
     "name": "stdout",
     "output_type": "stream",
     "text": [
      "[1, 2, 4, 5]\n"
     ]
    }
   ],
   "source": [
    "def remove_occurrences(lst, value):\n",
    "    lst.remove(value)\n",
    "    return lst\n",
    "\n",
    "my_list = [1, 2, 3, 4, 3, 5]\n",
    "value_to_remove = 3\n",
    "my_list = [x for x in my_list if x != value_to_remove]\n",
    "print(my_list)"
   ]
  },
  {
   "cell_type": "markdown",
   "id": "23ed3ffa",
   "metadata": {},
   "source": [
    "# 2. Concatenate a list of strings into a single string separated by spaces"
   ]
  },
  {
   "cell_type": "code",
   "execution_count": 2,
   "id": "96c2e0ef",
   "metadata": {},
   "outputs": [
    {
     "name": "stdout",
     "output_type": "stream",
     "text": [
      "Hello world this is Python\n"
     ]
    }
   ],
   "source": [
    "def concatenate_strings(string_list):\n",
    "    return ' '.join(string_list)\n",
    "\n",
    "my_strings = ['Hello', 'world', 'this', 'is', 'Python']\n",
    "result = concatenate_strings(my_strings)\n",
    "print(result)"
   ]
  },
  {
   "cell_type": "markdown",
   "id": "b3bb5bc4",
   "metadata": {},
   "source": [
    "# 3 :- Reverse a list of integers"
   ]
  },
  {
   "cell_type": "code",
   "execution_count": 3,
   "id": "29d30ffb",
   "metadata": {},
   "outputs": [
    {
     "name": "stdout",
     "output_type": "stream",
     "text": [
      "[5, 4, 3, 2, 1]\n"
     ]
    }
   ],
   "source": [
    "def reverse_list(lst):\n",
    "    lst.reverse()\n",
    "    return lst\n",
    "\n",
    "my_list = [1, 2, 3, 4, 5]\n",
    "reversed_list = reverse_list(my_list)\n",
    "print(reversed_list)"
   ]
  },
  {
   "cell_type": "markdown",
   "id": "f47ecacf",
   "metadata": {},
   "source": [
    "# 4 Sort a list of numbers in descending order"
   ]
  },
  {
   "cell_type": "code",
   "execution_count": 7,
   "id": "7c1510d1",
   "metadata": {},
   "outputs": [
    {
     "data": {
      "text/plain": [
       "[7, 7, 6, 4, 4, 1, 1, 0]"
      ]
     },
     "execution_count": 7,
     "metadata": {},
     "output_type": "execute_result"
    }
   ],
   "source": [
    "l4 = [4,1,6,7,1,7,0,4]\n",
    "l4.sort(reverse=True)\n",
    "l4"
   ]
  },
  {
   "cell_type": "markdown",
   "id": "e9ac8612",
   "metadata": {},
   "source": [
    "# 5 Combine two lists and remove duplicates\n"
   ]
  },
  {
   "cell_type": "code",
   "execution_count": 8,
   "id": "d4381e0f",
   "metadata": {},
   "outputs": [
    {
     "data": {
      "text/plain": [
       "[1, 2, 3, 4, 5, 6, 7]"
      ]
     },
     "execution_count": 8,
     "metadata": {},
     "output_type": "execute_result"
    }
   ],
   "source": [
    "list1 = [1, 2, 3, 4, 5]\n",
    "list2 = [3, 4, 5, 6, 7]\n",
    "combined_list = list(set(list1 + list2))\n",
    "combined_list"
   ]
  },
  {
   "cell_type": "markdown",
   "id": "d57cc41f",
   "metadata": {},
   "source": [
    "# 6 Convert a tuple into a list and remove the first and last elements"
   ]
  },
  {
   "cell_type": "code",
   "execution_count": 9,
   "id": "1f73dd50",
   "metadata": {},
   "outputs": [
    {
     "data": {
      "text/plain": [
       "[8, 5, 1, 9]"
      ]
     },
     "execution_count": 9,
     "metadata": {},
     "output_type": "execute_result"
    }
   ],
   "source": [
    "t = (3,8,5,1,9,4)\n",
    "t1=list(t)[1:-1]\n",
    "# tup = t1[1:-1]\n",
    "t1"
   ]
  },
  {
   "cell_type": "markdown",
   "id": "5dbe4a28",
   "metadata": {},
   "source": [
    "# 7 .Given a list of tuples, extract all the first elements of each tuple into a separate list using tuple unpacking."
   ]
  },
  {
   "cell_type": "code",
   "execution_count": 10,
   "id": "576a3ea6",
   "metadata": {},
   "outputs": [
    {
     "data": {
      "text/plain": [
       "[1, 3, 5]"
      ]
     },
     "execution_count": 10,
     "metadata": {},
     "output_type": "execute_result"
    }
   ],
   "source": [
    "ls = [(1,2),(3,4),(5,6)]\n",
    "sep = [x for x, _ in ls]\n",
    "sep"
   ]
  },
  {
   "cell_type": "markdown",
   "id": "943b9095",
   "metadata": {},
   "source": [
    "# 8. Combine two tuples into a single tuple."
   ]
  },
  {
   "cell_type": "code",
   "execution_count": 11,
   "id": "9094c8b8",
   "metadata": {},
   "outputs": [
    {
     "data": {
      "text/plain": [
       "(1, 2, 3, 4, 5, 6)"
      ]
     },
     "execution_count": 11,
     "metadata": {},
     "output_type": "execute_result"
    }
   ],
   "source": [
    "tuple1 = (1, 2, 3)\n",
    "tuple2 = (4, 5, 6)\n",
    "comb_tuple = tuple1 + tuple2\n",
    "comb_tuple"
   ]
  },
  {
   "cell_type": "markdown",
   "id": "31d3f465",
   "metadata": {},
   "source": [
    "# 9. Find the maximum and minimum values in a tuple of numbers using tuple methods.\n"
   ]
  },
  {
   "cell_type": "code",
   "execution_count": 12,
   "id": "38edf5a9",
   "metadata": {},
   "outputs": [
    {
     "name": "stdout",
     "output_type": "stream",
     "text": [
      "40\n",
      "5\n"
     ]
    }
   ],
   "source": [
    "num = (10, 20, 5, 40, 30)\n",
    "maxi = max(num)\n",
    "mini = min(num)\n",
    "print(maxi)  \n",
    "print(mini)"
   ]
  },
  {
   "cell_type": "markdown",
   "id": "425ea6f8",
   "metadata": {},
   "source": [
    "# 10. Convert a tuple of strings into a single string, with each element separated by a comma, using tuple methods."
   ]
  },
  {
   "cell_type": "code",
   "execution_count": 13,
   "id": "7de744c2",
   "metadata": {},
   "outputs": [
    {
     "data": {
      "text/plain": [
       "'How, are, you'"
      ]
     },
     "execution_count": 13,
     "metadata": {},
     "output_type": "execute_result"
    }
   ],
   "source": [
    "s_tup = (\"How\", \"are\", \"you\")\n",
    "comb_s = ', '.join(s_tup)\n",
    "comb_s"
   ]
  },
  {
   "cell_type": "markdown",
   "id": "6a65168c",
   "metadata": {},
   "source": [
    "# 11. Given two sets, return the union of the two sets using a set operation.\n"
   ]
  },
  {
   "cell_type": "code",
   "execution_count": 15,
   "id": "4f92bc81",
   "metadata": {},
   "outputs": [
    {
     "data": {
      "text/plain": [
       "{1, 2, 3, 4, 5}"
      ]
     },
     "execution_count": 15,
     "metadata": {},
     "output_type": "execute_result"
    }
   ],
   "source": [
    "set1 = {1, 2, 3}\n",
    "set2 = {3, 4, 1, 5}\n",
    "opr = set1.union(set2)\n",
    "opr"
   ]
  },
  {
   "cell_type": "markdown",
   "id": "cd5929fe",
   "metadata": {},
   "source": [
    "# 12. Find the intersection of two sets using a set method."
   ]
  },
  {
   "cell_type": "code",
   "execution_count": 17,
   "id": "730cd7f4",
   "metadata": {},
   "outputs": [
    {
     "data": {
      "text/plain": [
       "{1, 3}"
      ]
     },
     "execution_count": 17,
     "metadata": {},
     "output_type": "execute_result"
    }
   ],
   "source": [
    "inter_opr = set1.intersection(set2)\n",
    "inter_opr"
   ]
  },
  {
   "cell_type": "markdown",
   "id": "d53e178a",
   "metadata": {},
   "source": [
    "# 13. Remove all elements from one set that are also present in another set using a set method."
   ]
  },
  {
   "cell_type": "code",
   "execution_count": 18,
   "id": "e5e50a23",
   "metadata": {},
   "outputs": [
    {
     "data": {
      "text/plain": [
       "{1, 3}"
      ]
     },
     "execution_count": 18,
     "metadata": {},
     "output_type": "execute_result"
    }
   ],
   "source": [
    "set1.intersection_update(set2)\n",
    "set1"
   ]
  },
  {
   "cell_type": "markdown",
   "id": "ee444a76",
   "metadata": {},
   "source": [
    "# 14. Find the difference between two sets using a set method."
   ]
  },
  {
   "cell_type": "code",
   "execution_count": 19,
   "id": "528ff4a4",
   "metadata": {},
   "outputs": [
    {
     "data": {
      "text/plain": [
       "set()"
      ]
     },
     "execution_count": 19,
     "metadata": {},
     "output_type": "execute_result"
    }
   ],
   "source": [
    "diff_opr = set1.difference(set2)\n",
    "diff_opr"
   ]
  },
  {
   "cell_type": "markdown",
   "id": "d0544ebf",
   "metadata": {},
   "source": [
    "# 15. Convert a list of integers into a set and then back to a list to remove duplicates, using set operations."
   ]
  },
  {
   "cell_type": "code",
   "execution_count": 20,
   "id": "f2050eeb",
   "metadata": {},
   "outputs": [
    {
     "data": {
      "text/plain": [
       "[1, 2, 3, 4, 5]"
      ]
     },
     "execution_count": 20,
     "metadata": {},
     "output_type": "execute_result"
    }
   ],
   "source": [
    "num_list = [1, 2, 3, 4, 5, 1, 2, 3]\n",
    "num_set = set(num_list)\n",
    "s = list(num_set)\n",
    "s"
   ]
  },
  {
   "cell_type": "markdown",
   "id": "97824ba2",
   "metadata": {},
   "source": [
    "# 16. Merge two dictionaries into a single dictionary using a dictionary method.\n"
   ]
  },
  {
   "cell_type": "code",
   "execution_count": 21,
   "id": "dd754135",
   "metadata": {},
   "outputs": [
    {
     "data": {
      "text/plain": [
       "{'a': 1, 'b': 3, 'c': 4}"
      ]
     },
     "execution_count": 21,
     "metadata": {},
     "output_type": "execute_result"
    }
   ],
   "source": [
    "dict1 = {'a': 1, 'b': 2}\n",
    "dict2 = {'b': 3, 'c': 4}\n",
    "merged_dict = {**dict1, **dict2}\n",
    "merged_dict"
   ]
  },
  {
   "cell_type": "markdown",
   "id": "c325947e",
   "metadata": {},
   "source": [
    "# 17. Extract all values from a dictionary into a list using a dictionary method.\n"
   ]
  },
  {
   "cell_type": "code",
   "execution_count": 22,
   "id": "32351371",
   "metadata": {},
   "outputs": [
    {
     "data": {
      "text/plain": [
       "[1, 2, 3]"
      ]
     },
     "execution_count": 22,
     "metadata": {},
     "output_type": "execute_result"
    }
   ],
   "source": [
    "my_dict = {'a': 1, 'b': 2, 'c': 3}\n",
    "values_list = list(my_dict.values())\n",
    "values_list"
   ]
  },
  {
   "cell_type": "code",
   "execution_count": null,
   "id": "5b4a6c2d",
   "metadata": {},
   "outputs": [],
   "source": []
  }
 ],
 "metadata": {
  "kernelspec": {
   "display_name": "Python 3 (ipykernel)",
   "language": "python",
   "name": "python3"
  },
  "language_info": {
   "codemirror_mode": {
    "name": "ipython",
    "version": 3
   },
   "file_extension": ".py",
   "mimetype": "text/x-python",
   "name": "python",
   "nbconvert_exporter": "python",
   "pygments_lexer": "ipython3",
   "version": "3.10.9"
  }
 },
 "nbformat": 4,
 "nbformat_minor": 5
}
